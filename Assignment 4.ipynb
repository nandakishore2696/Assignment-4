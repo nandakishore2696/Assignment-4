{
 "cells": [
  {
   "cell_type": "code",
   "execution_count": null,
   "id": "6d4923e4",
   "metadata": {},
   "outputs": [],
   "source": [
    "Q1. Explain Class and Object with respect to Object-Oriented Programming. Give a suitable example."
   ]
  },
  {
   "cell_type": "code",
   "execution_count": null,
   "id": "6acc8f8d",
   "metadata": {},
   "outputs": [],
   "source": [
    "Class : A class is a blueprint or a template that defines the structure objects. \n",
    "It is a programming construct that encapsulates data (attributes) and functions (methods) that operate on that data. "
   ]
  },
  {
   "cell_type": "code",
   "execution_count": null,
   "id": "d323f3c4",
   "metadata": {},
   "outputs": [],
   "source": [
    "Object : It represents a real-world entity that has attributes and behaviors defined by the class. "
   ]
  },
  {
   "cell_type": "code",
   "execution_count": 1,
   "id": "7dda7ee5",
   "metadata": {},
   "outputs": [],
   "source": [
    "class car:\n",
    "    def __init__(self,company,model,price):\n",
    "        self.company = company\n",
    "        self.model = model\n",
    "        self.price = price"
   ]
  },
  {
   "cell_type": "code",
   "execution_count": 4,
   "id": "6b8953bf",
   "metadata": {},
   "outputs": [],
   "source": [
    "car1 = car('Tata','sumo',7)"
   ]
  },
  {
   "cell_type": "code",
   "execution_count": 5,
   "id": "922dc301",
   "metadata": {},
   "outputs": [],
   "source": [
    "car2 = car('mahindra','Xuv',8)"
   ]
  },
  {
   "cell_type": "code",
   "execution_count": 8,
   "id": "6f9e9dbf",
   "metadata": {},
   "outputs": [
    {
     "data": {
      "text/plain": [
       "'Tata'"
      ]
     },
     "execution_count": 8,
     "metadata": {},
     "output_type": "execute_result"
    }
   ],
   "source": [
    "car1.company"
   ]
  },
  {
   "cell_type": "code",
   "execution_count": null,
   "id": "5a607d82",
   "metadata": {},
   "outputs": [],
   "source": [
    "Here car is class , like blueprint\n",
    "car1 and car2 are objects"
   ]
  },
  {
   "cell_type": "code",
   "execution_count": null,
   "id": "3601860d",
   "metadata": {},
   "outputs": [],
   "source": []
  },
  {
   "cell_type": "code",
   "execution_count": null,
   "id": "8afc96a7",
   "metadata": {},
   "outputs": [],
   "source": [
    "Q2. Name the four pillars of OOPs."
   ]
  },
  {
   "cell_type": "code",
   "execution_count": null,
   "id": "6ee876cd",
   "metadata": {},
   "outputs": [],
   "source": [
    "Encapsulation\n",
    "Abstraction\n",
    "Inheritance\n",
    "Polymorphism"
   ]
  },
  {
   "cell_type": "code",
   "execution_count": null,
   "id": "d745830a",
   "metadata": {},
   "outputs": [],
   "source": []
  },
  {
   "cell_type": "code",
   "execution_count": null,
   "id": "bd2b126a",
   "metadata": {},
   "outputs": [],
   "source": [
    "Q3. Explain why the __init__() function is used. Give a suitable example."
   ]
  },
  {
   "cell_type": "code",
   "execution_count": null,
   "id": "af602198",
   "metadata": {},
   "outputs": [],
   "source": [
    "__init__() : Constructor function is used to initialize the objects by assigning the values to the respective values."
   ]
  },
  {
   "cell_type": "code",
   "execution_count": null,
   "id": "d9daabd0",
   "metadata": {},
   "outputs": [],
   "source": [
    "class car:\n",
    "    def __init__(self,company,model,price):\n",
    "        self.company = company\n",
    "        self.model = model\n",
    "        self.price = price"
   ]
  },
  {
   "cell_type": "code",
   "execution_count": null,
   "id": "7099c6fe",
   "metadata": {},
   "outputs": [],
   "source": [
    "car1 = car('Tata','sumo',7)"
   ]
  },
  {
   "cell_type": "code",
   "execution_count": null,
   "id": "4682de8d",
   "metadata": {},
   "outputs": [],
   "source": []
  },
  {
   "cell_type": "code",
   "execution_count": null,
   "id": "65ed2c80",
   "metadata": {},
   "outputs": [],
   "source": [
    "Q4. Why self is used in OOPs?"
   ]
  },
  {
   "cell_type": "code",
   "execution_count": null,
   "id": "720671ac",
   "metadata": {},
   "outputs": [],
   "source": [
    "self is used to refer to the instance of the class within methods and attributes. \n",
    "It is a convention in Python to name the first parameter of instance methods as self. \n",
    "However, you can use any name you prefer for the first parameter, \n",
    "but using self is a widely followed practice and makes your code more understandable to other programmers familiar with Python."
   ]
  },
  {
   "cell_type": "code",
   "execution_count": null,
   "id": "897ed2bf",
   "metadata": {},
   "outputs": [],
   "source": []
  },
  {
   "cell_type": "code",
   "execution_count": null,
   "id": "81cd0455",
   "metadata": {},
   "outputs": [],
   "source": [
    "Q5. What is inheritance? Give an example for each type of inheritance."
   ]
  },
  {
   "cell_type": "code",
   "execution_count": null,
   "id": "b1394671",
   "metadata": {},
   "outputs": [],
   "source": [
    "Inheritence is a concept in OOPs where we can access the variables and methods of the parent class through the child class.\n",
    "Single Inheritance\n",
    "Multiple Inheritance\n",
    "Multilevel Inheritance\n",
    "Heirarchical Inheritance"
   ]
  },
  {
   "cell_type": "code",
   "execution_count": 9,
   "id": "8574bbbd",
   "metadata": {},
   "outputs": [],
   "source": [
    "## Single Inheritance\n",
    "class animal:\n",
    "    def speak(self):\n",
    "        pass\n",
    "class dog(animal):\n",
    "    def speak(self):\n",
    "        return 'Woof!'\n",
    "class cat(animal):\n",
    "    def speak(self):\n",
    "        return 'Meow'"
   ]
  },
  {
   "cell_type": "code",
   "execution_count": 10,
   "id": "8443f488",
   "metadata": {},
   "outputs": [],
   "source": [
    "d = dog()"
   ]
  },
  {
   "cell_type": "code",
   "execution_count": 11,
   "id": "afb60528",
   "metadata": {},
   "outputs": [
    {
     "data": {
      "text/plain": [
       "'Woof!'"
      ]
     },
     "execution_count": 11,
     "metadata": {},
     "output_type": "execute_result"
    }
   ],
   "source": [
    "d.speak()"
   ]
  },
  {
   "cell_type": "code",
   "execution_count": 12,
   "id": "557fd8f1",
   "metadata": {},
   "outputs": [],
   "source": [
    "c = cat()"
   ]
  },
  {
   "cell_type": "code",
   "execution_count": 13,
   "id": "92b780a9",
   "metadata": {},
   "outputs": [
    {
     "data": {
      "text/plain": [
       "'Meow'"
      ]
     },
     "execution_count": 13,
     "metadata": {},
     "output_type": "execute_result"
    }
   ],
   "source": [
    "c.speak()"
   ]
  },
  {
   "cell_type": "code",
   "execution_count": 16,
   "id": "9b351ea0",
   "metadata": {},
   "outputs": [],
   "source": [
    "## Multiple Inheritance\n",
    "class A:\n",
    "    def num1(self):\n",
    "        return 1\n",
    "class B:\n",
    "    def num2(self):\n",
    "        return 2\n",
    "class C(A,B):\n",
    "    def num3(self):\n",
    "        return 3"
   ]
  },
  {
   "cell_type": "code",
   "execution_count": 18,
   "id": "fe257e90",
   "metadata": {},
   "outputs": [],
   "source": [
    "c = C()"
   ]
  },
  {
   "cell_type": "code",
   "execution_count": 20,
   "id": "d89700da",
   "metadata": {},
   "outputs": [
    {
     "data": {
      "text/plain": [
       "3"
      ]
     },
     "execution_count": 20,
     "metadata": {},
     "output_type": "execute_result"
    }
   ],
   "source": [
    "c.num3()"
   ]
  },
  {
   "cell_type": "code",
   "execution_count": 21,
   "id": "8e96d754",
   "metadata": {},
   "outputs": [
    {
     "data": {
      "text/plain": [
       "1"
      ]
     },
     "execution_count": 21,
     "metadata": {},
     "output_type": "execute_result"
    }
   ],
   "source": [
    "c.num1()"
   ]
  },
  {
   "cell_type": "code",
   "execution_count": 22,
   "id": "1b5f948c",
   "metadata": {},
   "outputs": [
    {
     "data": {
      "text/plain": [
       "2"
      ]
     },
     "execution_count": 22,
     "metadata": {},
     "output_type": "execute_result"
    }
   ],
   "source": [
    "c.num2()"
   ]
  },
  {
   "cell_type": "code",
   "execution_count": null,
   "id": "507c2e09",
   "metadata": {},
   "outputs": [],
   "source": [
    "## Multilevel Inheritance\n",
    "class Grandparent:\n",
    "    def method_grandparent(self):\n",
    "        return \"Method from Grandparent\"\n",
    "\n",
    "class Parent(Grandparent):\n",
    "    def method_parent(self):\n",
    "        return \"Method from Parent\"\n",
    "\n",
    "class Child(Parent):\n",
    "    def method_child(self):\n",
    "        return \"Method from Child\"\n"
   ]
  },
  {
   "cell_type": "code",
   "execution_count": null,
   "id": "8d3c3fa8",
   "metadata": {},
   "outputs": [],
   "source": [
    "## Heirarchical Inheritance\n",
    "class Shape:\n",
    "    def area(self):\n",
    "        pass\n",
    "\n",
    "class Circle(Shape):\n",
    "    def area(self):\n",
    "        return 3.14 * self.radius * self.radius\n",
    "\n",
    "class Rectangle(Shape):\n",
    "    def area(self):\n",
    "        return self.width * self.height\n"
   ]
  },
  {
   "cell_type": "code",
   "execution_count": null,
   "id": "fa55a057",
   "metadata": {},
   "outputs": [],
   "source": []
  },
  {
   "cell_type": "code",
   "execution_count": null,
   "id": "da964324",
   "metadata": {},
   "outputs": [],
   "source": []
  },
  {
   "cell_type": "code",
   "execution_count": null,
   "id": "8cd2cc92",
   "metadata": {},
   "outputs": [],
   "source": []
  }
 ],
 "metadata": {
  "kernelspec": {
   "display_name": "Python 3 (ipykernel)",
   "language": "python",
   "name": "python3"
  },
  "language_info": {
   "codemirror_mode": {
    "name": "ipython",
    "version": 3
   },
   "file_extension": ".py",
   "mimetype": "text/x-python",
   "name": "python",
   "nbconvert_exporter": "python",
   "pygments_lexer": "ipython3",
   "version": "3.9.13"
  }
 },
 "nbformat": 4,
 "nbformat_minor": 5
}
